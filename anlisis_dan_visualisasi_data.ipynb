{
  "nbformat": 4,
  "nbformat_minor": 0,
  "metadata": {
    "colab": {
      "provenance": [],
      "authorship_tag": "ABX9TyNOX0BoGlnKkIIuaPaVVfoH",
      "include_colab_link": true
    },
    "kernelspec": {
      "name": "python3",
      "display_name": "Python 3"
    },
    "language_info": {
      "name": "python"
    }
  },
  "cells": [
    {
      "cell_type": "markdown",
      "metadata": {
        "id": "view-in-github",
        "colab_type": "text"
      },
      "source": [
        "<a href=\"https://colab.research.google.com/github/Ariwibowogithub/DM1/blob/main/anlisis_dan_visualisasi_data.ipynb\" target=\"_parent\"><img src=\"https://colab.research.google.com/assets/colab-badge.svg\" alt=\"Open In Colab\"/></a>"
      ]
    },
    {
      "cell_type": "code",
      "execution_count": 10,
      "metadata": {
        "id": "Xg5W5CK4aPrk"
      },
      "outputs": [],
      "source": [
        "%matplotlib inline\n",
        "\n",
        "import numpy as np\n",
        "import matplotlib.pyplot as plt\n",
        "import pandas as pd\n",
        "import seaborn as sns\n"
      ]
    },
    {
      "cell_type": "markdown",
      "source": [
        "numpy merupakan library python digunakan untuk komputasi metriks\n",
        "matplotlib merupakan library python untuk presentasi data berupa grafik atau plot...."
      ],
      "metadata": {
        "id": "vkWysmHdfuaL"
      }
    },
    {
      "cell_type": "code",
      "source": [
        "df = pd.read_csv ('penjualan.csv')\n",
        "df"
      ],
      "metadata": {
        "colab": {
          "base_uri": "https://localhost:8080/",
          "height": 519
        },
        "id": "K4cpmMA6gNLH",
        "outputId": "1bc03b66-6bd3-4e3a-b411-9e663fb574b4"
      },
      "execution_count": 13,
      "outputs": [
        {
          "output_type": "execute_result",
          "data": {
            "text/plain": [
              "    No Tanggal Kode Pelanggan Nama Pelanggan Kode Produk    Nama Produk  Qty  \\\n",
              "0    1   1-Aug          NF-01     Toko Nofri        B-05   Besi 5 Meter  340   \n",
              "1    2   1-Aug          AN-02     Toko Anton        B-10  Besi 10 Meter  140   \n",
              "2    3   1-Aug          CT-03   Toko Central         P-5   Pipa 5 Meter  560   \n",
              "3    4   2-Aug          CT-03   Toko Central        P-10  Pipa 10 Meter  230   \n",
              "4    5   2-Aug          AN-02     Toko Anton        B-05   Besi 5 Meter  770   \n",
              "5    6   2-Aug          NF-01     Toko Nofri        B-10  Besi 10 Meter  780   \n",
              "6    7   2-Aug          AN-02     Toko Anton         P-5   Pipa 5 Meter  300   \n",
              "7    8   2-Aug          NF-01     Toko Nofri        P-10  Pipa 10 Meter  790   \n",
              "8    9   2-Aug          CT-03   Toko Central        B-05   Besi 5 Meter  440   \n",
              "9   10   2-Aug          AN-02     Toko Anton        B-10  Besi 10 Meter  130   \n",
              "10  11   3-Aug          NF-01     Toko Nofri         P-5   Pipa 5 Meter  360   \n",
              "11  12   3-Aug          NF-01     Toko Nofri        P-10  Pipa 10 Meter  120   \n",
              "12  13   3-Aug          AN-02     Toko Anton         P-5   Pipa 5 Meter  120   \n",
              "13  14   3-Aug          NF-01     Toko Nofri        P-10  Pipa 10 Meter  720   \n",
              "14  15   3-Aug          CT-03   Toko Central        P-10  Pipa 10 Meter  250   \n",
              "\n",
              "    Harga Satuan  Total Penjualan  Diskon  Penjualan Bersih  \n",
              "0         200000         68000000     0.1          61200000  \n",
              "1         375000         52500000     0.0          52500000  \n",
              "2         100000         56000000     0.2          44800000  \n",
              "3         185000         42550000     0.1          38295000  \n",
              "4         200000        154000000     0.2         123200000  \n",
              "5         375000        292500000     0.2         234000000  \n",
              "6         100000         30000000     0.1          27000000  \n",
              "7         185000        146150000     0.2         116920000  \n",
              "8         200000         88000000     0.1          79200000  \n",
              "9         375000         48750000     0.0          48750000  \n",
              "10        100000         36000000     0.1          32400000  \n",
              "11        185000         22200000     0.0          22200000  \n",
              "12        100000         12000000     0.0          12000000  \n",
              "13        185000        133200000     0.2         106560000  \n",
              "14        185000         46250000     0.1          41625000  "
            ],
            "text/html": [
              "\n",
              "  <div id=\"df-512bc8f9-55ce-41c8-b497-15b50424b084\">\n",
              "    <div class=\"colab-df-container\">\n",
              "      <div>\n",
              "<style scoped>\n",
              "    .dataframe tbody tr th:only-of-type {\n",
              "        vertical-align: middle;\n",
              "    }\n",
              "\n",
              "    .dataframe tbody tr th {\n",
              "        vertical-align: top;\n",
              "    }\n",
              "\n",
              "    .dataframe thead th {\n",
              "        text-align: right;\n",
              "    }\n",
              "</style>\n",
              "<table border=\"1\" class=\"dataframe\">\n",
              "  <thead>\n",
              "    <tr style=\"text-align: right;\">\n",
              "      <th></th>\n",
              "      <th>No</th>\n",
              "      <th>Tanggal</th>\n",
              "      <th>Kode Pelanggan</th>\n",
              "      <th>Nama Pelanggan</th>\n",
              "      <th>Kode Produk</th>\n",
              "      <th>Nama Produk</th>\n",
              "      <th>Qty</th>\n",
              "      <th>Harga Satuan</th>\n",
              "      <th>Total Penjualan</th>\n",
              "      <th>Diskon</th>\n",
              "      <th>Penjualan Bersih</th>\n",
              "    </tr>\n",
              "  </thead>\n",
              "  <tbody>\n",
              "    <tr>\n",
              "      <th>0</th>\n",
              "      <td>1</td>\n",
              "      <td>1-Aug</td>\n",
              "      <td>NF-01</td>\n",
              "      <td>Toko Nofri</td>\n",
              "      <td>B-05</td>\n",
              "      <td>Besi 5 Meter</td>\n",
              "      <td>340</td>\n",
              "      <td>200000</td>\n",
              "      <td>68000000</td>\n",
              "      <td>0.1</td>\n",
              "      <td>61200000</td>\n",
              "    </tr>\n",
              "    <tr>\n",
              "      <th>1</th>\n",
              "      <td>2</td>\n",
              "      <td>1-Aug</td>\n",
              "      <td>AN-02</td>\n",
              "      <td>Toko Anton</td>\n",
              "      <td>B-10</td>\n",
              "      <td>Besi 10 Meter</td>\n",
              "      <td>140</td>\n",
              "      <td>375000</td>\n",
              "      <td>52500000</td>\n",
              "      <td>0.0</td>\n",
              "      <td>52500000</td>\n",
              "    </tr>\n",
              "    <tr>\n",
              "      <th>2</th>\n",
              "      <td>3</td>\n",
              "      <td>1-Aug</td>\n",
              "      <td>CT-03</td>\n",
              "      <td>Toko Central</td>\n",
              "      <td>P-5</td>\n",
              "      <td>Pipa 5 Meter</td>\n",
              "      <td>560</td>\n",
              "      <td>100000</td>\n",
              "      <td>56000000</td>\n",
              "      <td>0.2</td>\n",
              "      <td>44800000</td>\n",
              "    </tr>\n",
              "    <tr>\n",
              "      <th>3</th>\n",
              "      <td>4</td>\n",
              "      <td>2-Aug</td>\n",
              "      <td>CT-03</td>\n",
              "      <td>Toko Central</td>\n",
              "      <td>P-10</td>\n",
              "      <td>Pipa 10 Meter</td>\n",
              "      <td>230</td>\n",
              "      <td>185000</td>\n",
              "      <td>42550000</td>\n",
              "      <td>0.1</td>\n",
              "      <td>38295000</td>\n",
              "    </tr>\n",
              "    <tr>\n",
              "      <th>4</th>\n",
              "      <td>5</td>\n",
              "      <td>2-Aug</td>\n",
              "      <td>AN-02</td>\n",
              "      <td>Toko Anton</td>\n",
              "      <td>B-05</td>\n",
              "      <td>Besi 5 Meter</td>\n",
              "      <td>770</td>\n",
              "      <td>200000</td>\n",
              "      <td>154000000</td>\n",
              "      <td>0.2</td>\n",
              "      <td>123200000</td>\n",
              "    </tr>\n",
              "    <tr>\n",
              "      <th>5</th>\n",
              "      <td>6</td>\n",
              "      <td>2-Aug</td>\n",
              "      <td>NF-01</td>\n",
              "      <td>Toko Nofri</td>\n",
              "      <td>B-10</td>\n",
              "      <td>Besi 10 Meter</td>\n",
              "      <td>780</td>\n",
              "      <td>375000</td>\n",
              "      <td>292500000</td>\n",
              "      <td>0.2</td>\n",
              "      <td>234000000</td>\n",
              "    </tr>\n",
              "    <tr>\n",
              "      <th>6</th>\n",
              "      <td>7</td>\n",
              "      <td>2-Aug</td>\n",
              "      <td>AN-02</td>\n",
              "      <td>Toko Anton</td>\n",
              "      <td>P-5</td>\n",
              "      <td>Pipa 5 Meter</td>\n",
              "      <td>300</td>\n",
              "      <td>100000</td>\n",
              "      <td>30000000</td>\n",
              "      <td>0.1</td>\n",
              "      <td>27000000</td>\n",
              "    </tr>\n",
              "    <tr>\n",
              "      <th>7</th>\n",
              "      <td>8</td>\n",
              "      <td>2-Aug</td>\n",
              "      <td>NF-01</td>\n",
              "      <td>Toko Nofri</td>\n",
              "      <td>P-10</td>\n",
              "      <td>Pipa 10 Meter</td>\n",
              "      <td>790</td>\n",
              "      <td>185000</td>\n",
              "      <td>146150000</td>\n",
              "      <td>0.2</td>\n",
              "      <td>116920000</td>\n",
              "    </tr>\n",
              "    <tr>\n",
              "      <th>8</th>\n",
              "      <td>9</td>\n",
              "      <td>2-Aug</td>\n",
              "      <td>CT-03</td>\n",
              "      <td>Toko Central</td>\n",
              "      <td>B-05</td>\n",
              "      <td>Besi 5 Meter</td>\n",
              "      <td>440</td>\n",
              "      <td>200000</td>\n",
              "      <td>88000000</td>\n",
              "      <td>0.1</td>\n",
              "      <td>79200000</td>\n",
              "    </tr>\n",
              "    <tr>\n",
              "      <th>9</th>\n",
              "      <td>10</td>\n",
              "      <td>2-Aug</td>\n",
              "      <td>AN-02</td>\n",
              "      <td>Toko Anton</td>\n",
              "      <td>B-10</td>\n",
              "      <td>Besi 10 Meter</td>\n",
              "      <td>130</td>\n",
              "      <td>375000</td>\n",
              "      <td>48750000</td>\n",
              "      <td>0.0</td>\n",
              "      <td>48750000</td>\n",
              "    </tr>\n",
              "    <tr>\n",
              "      <th>10</th>\n",
              "      <td>11</td>\n",
              "      <td>3-Aug</td>\n",
              "      <td>NF-01</td>\n",
              "      <td>Toko Nofri</td>\n",
              "      <td>P-5</td>\n",
              "      <td>Pipa 5 Meter</td>\n",
              "      <td>360</td>\n",
              "      <td>100000</td>\n",
              "      <td>36000000</td>\n",
              "      <td>0.1</td>\n",
              "      <td>32400000</td>\n",
              "    </tr>\n",
              "    <tr>\n",
              "      <th>11</th>\n",
              "      <td>12</td>\n",
              "      <td>3-Aug</td>\n",
              "      <td>NF-01</td>\n",
              "      <td>Toko Nofri</td>\n",
              "      <td>P-10</td>\n",
              "      <td>Pipa 10 Meter</td>\n",
              "      <td>120</td>\n",
              "      <td>185000</td>\n",
              "      <td>22200000</td>\n",
              "      <td>0.0</td>\n",
              "      <td>22200000</td>\n",
              "    </tr>\n",
              "    <tr>\n",
              "      <th>12</th>\n",
              "      <td>13</td>\n",
              "      <td>3-Aug</td>\n",
              "      <td>AN-02</td>\n",
              "      <td>Toko Anton</td>\n",
              "      <td>P-5</td>\n",
              "      <td>Pipa 5 Meter</td>\n",
              "      <td>120</td>\n",
              "      <td>100000</td>\n",
              "      <td>12000000</td>\n",
              "      <td>0.0</td>\n",
              "      <td>12000000</td>\n",
              "    </tr>\n",
              "    <tr>\n",
              "      <th>13</th>\n",
              "      <td>14</td>\n",
              "      <td>3-Aug</td>\n",
              "      <td>NF-01</td>\n",
              "      <td>Toko Nofri</td>\n",
              "      <td>P-10</td>\n",
              "      <td>Pipa 10 Meter</td>\n",
              "      <td>720</td>\n",
              "      <td>185000</td>\n",
              "      <td>133200000</td>\n",
              "      <td>0.2</td>\n",
              "      <td>106560000</td>\n",
              "    </tr>\n",
              "    <tr>\n",
              "      <th>14</th>\n",
              "      <td>15</td>\n",
              "      <td>3-Aug</td>\n",
              "      <td>CT-03</td>\n",
              "      <td>Toko Central</td>\n",
              "      <td>P-10</td>\n",
              "      <td>Pipa 10 Meter</td>\n",
              "      <td>250</td>\n",
              "      <td>185000</td>\n",
              "      <td>46250000</td>\n",
              "      <td>0.1</td>\n",
              "      <td>41625000</td>\n",
              "    </tr>\n",
              "  </tbody>\n",
              "</table>\n",
              "</div>\n",
              "      <button class=\"colab-df-convert\" onclick=\"convertToInteractive('df-512bc8f9-55ce-41c8-b497-15b50424b084')\"\n",
              "              title=\"Convert this dataframe to an interactive table.\"\n",
              "              style=\"display:none;\">\n",
              "        \n",
              "  <svg xmlns=\"http://www.w3.org/2000/svg\" height=\"24px\"viewBox=\"0 0 24 24\"\n",
              "       width=\"24px\">\n",
              "    <path d=\"M0 0h24v24H0V0z\" fill=\"none\"/>\n",
              "    <path d=\"M18.56 5.44l.94 2.06.94-2.06 2.06-.94-2.06-.94-.94-2.06-.94 2.06-2.06.94zm-11 1L8.5 8.5l.94-2.06 2.06-.94-2.06-.94L8.5 2.5l-.94 2.06-2.06.94zm10 10l.94 2.06.94-2.06 2.06-.94-2.06-.94-.94-2.06-.94 2.06-2.06.94z\"/><path d=\"M17.41 7.96l-1.37-1.37c-.4-.4-.92-.59-1.43-.59-.52 0-1.04.2-1.43.59L10.3 9.45l-7.72 7.72c-.78.78-.78 2.05 0 2.83L4 21.41c.39.39.9.59 1.41.59.51 0 1.02-.2 1.41-.59l7.78-7.78 2.81-2.81c.8-.78.8-2.07 0-2.86zM5.41 20L4 18.59l7.72-7.72 1.47 1.35L5.41 20z\"/>\n",
              "  </svg>\n",
              "      </button>\n",
              "      \n",
              "  <style>\n",
              "    .colab-df-container {\n",
              "      display:flex;\n",
              "      flex-wrap:wrap;\n",
              "      gap: 12px;\n",
              "    }\n",
              "\n",
              "    .colab-df-convert {\n",
              "      background-color: #E8F0FE;\n",
              "      border: none;\n",
              "      border-radius: 50%;\n",
              "      cursor: pointer;\n",
              "      display: none;\n",
              "      fill: #1967D2;\n",
              "      height: 32px;\n",
              "      padding: 0 0 0 0;\n",
              "      width: 32px;\n",
              "    }\n",
              "\n",
              "    .colab-df-convert:hover {\n",
              "      background-color: #E2EBFA;\n",
              "      box-shadow: 0px 1px 2px rgba(60, 64, 67, 0.3), 0px 1px 3px 1px rgba(60, 64, 67, 0.15);\n",
              "      fill: #174EA6;\n",
              "    }\n",
              "\n",
              "    [theme=dark] .colab-df-convert {\n",
              "      background-color: #3B4455;\n",
              "      fill: #D2E3FC;\n",
              "    }\n",
              "\n",
              "    [theme=dark] .colab-df-convert:hover {\n",
              "      background-color: #434B5C;\n",
              "      box-shadow: 0px 1px 3px 1px rgba(0, 0, 0, 0.15);\n",
              "      filter: drop-shadow(0px 1px 2px rgba(0, 0, 0, 0.3));\n",
              "      fill: #FFFFFF;\n",
              "    }\n",
              "  </style>\n",
              "\n",
              "      <script>\n",
              "        const buttonEl =\n",
              "          document.querySelector('#df-512bc8f9-55ce-41c8-b497-15b50424b084 button.colab-df-convert');\n",
              "        buttonEl.style.display =\n",
              "          google.colab.kernel.accessAllowed ? 'block' : 'none';\n",
              "\n",
              "        async function convertToInteractive(key) {\n",
              "          const element = document.querySelector('#df-512bc8f9-55ce-41c8-b497-15b50424b084');\n",
              "          const dataTable =\n",
              "            await google.colab.kernel.invokeFunction('convertToInteractive',\n",
              "                                                     [key], {});\n",
              "          if (!dataTable) return;\n",
              "\n",
              "          const docLinkHtml = 'Like what you see? Visit the ' +\n",
              "            '<a target=\"_blank\" href=https://colab.research.google.com/notebooks/data_table.ipynb>data table notebook</a>'\n",
              "            + ' to learn more about interactive tables.';\n",
              "          element.innerHTML = '';\n",
              "          dataTable['output_type'] = 'display_data';\n",
              "          await google.colab.output.renderOutput(dataTable, element);\n",
              "          const docLink = document.createElement('div');\n",
              "          docLink.innerHTML = docLinkHtml;\n",
              "          element.appendChild(docLink);\n",
              "        }\n",
              "      </script>\n",
              "    </div>\n",
              "  </div>\n",
              "  "
            ]
          },
          "metadata": {},
          "execution_count": 13
        }
      ]
    },
    {
      "cell_type": "code",
      "source": [
        "df.info()\n"
      ],
      "metadata": {
        "colab": {
          "base_uri": "https://localhost:8080/"
        },
        "id": "Jq8KPt3MmtfL",
        "outputId": "9e5fb6cf-1785-4b8d-f10f-c7f83c9803eb"
      },
      "execution_count": 14,
      "outputs": [
        {
          "output_type": "stream",
          "name": "stdout",
          "text": [
            "<class 'pandas.core.frame.DataFrame'>\n",
            "RangeIndex: 15 entries, 0 to 14\n",
            "Data columns (total 11 columns):\n",
            " #   Column            Non-Null Count  Dtype  \n",
            "---  ------            --------------  -----  \n",
            " 0   No                15 non-null     int64  \n",
            " 1   Tanggal           15 non-null     object \n",
            " 2   Kode Pelanggan    15 non-null     object \n",
            " 3   Nama Pelanggan    15 non-null     object \n",
            " 4   Kode Produk       15 non-null     object \n",
            " 5   Nama Produk       15 non-null     object \n",
            " 6   Qty               15 non-null     int64  \n",
            " 7   Harga Satuan      15 non-null     int64  \n",
            " 8   Total Penjualan   15 non-null     int64  \n",
            " 9   Diskon            15 non-null     float64\n",
            " 10  Penjualan Bersih  15 non-null     int64  \n",
            "dtypes: float64(1), int64(5), object(5)\n",
            "memory usage: 1.4+ KB\n"
          ]
        }
      ]
    },
    {
      "cell_type": "code",
      "source": [
        "df['Total Penjualan'].max()"
      ],
      "metadata": {
        "id": "3xQ8_wSgozWW",
        "colab": {
          "base_uri": "https://localhost:8080/"
        },
        "outputId": "fe296efc-8b5f-4300-8598-bfaa7fc0f11b"
      },
      "execution_count": 15,
      "outputs": [
        {
          "output_type": "execute_result",
          "data": {
            "text/plain": [
              "292500000"
            ]
          },
          "metadata": {},
          "execution_count": 15
        }
      ]
    },
    {
      "cell_type": "code",
      "source": [
        "df['Total Penjualan'].min()"
      ],
      "metadata": {
        "colab": {
          "base_uri": "https://localhost:8080/"
        },
        "id": "sbhJrl0AxIJT",
        "outputId": "42c7c5b0-f012-4483-e9c3-6937fb0bc377"
      },
      "execution_count": 16,
      "outputs": [
        {
          "output_type": "execute_result",
          "data": {
            "text/plain": [
              "12000000"
            ]
          },
          "metadata": {},
          "execution_count": 16
        }
      ]
    },
    {
      "cell_type": "code",
      "source": [
        "df['Kode Produk'].value_counts()"
      ],
      "metadata": {
        "colab": {
          "base_uri": "https://localhost:8080/"
        },
        "id": "rIRYGF5Rxftm",
        "outputId": "1cf89b07-f7af-47e1-c58c-68d680c5e49b"
      },
      "execution_count": 17,
      "outputs": [
        {
          "output_type": "execute_result",
          "data": {
            "text/plain": [
              "P-10    5\n",
              "P-5     4\n",
              "B-05    3\n",
              "B-10    3\n",
              "Name: Kode Produk, dtype: int64"
            ]
          },
          "metadata": {},
          "execution_count": 17
        }
      ]
    },
    {
      "cell_type": "code",
      "source": [
        "df['Qty'].sum()"
      ],
      "metadata": {
        "colab": {
          "base_uri": "https://localhost:8080/"
        },
        "id": "HNGnxNukxrVH",
        "outputId": "3276052e-bd18-4726-ae9a-0a7555eb7d65"
      },
      "execution_count": 18,
      "outputs": [
        {
          "output_type": "execute_result",
          "data": {
            "text/plain": [
              "6050"
            ]
          },
          "metadata": {},
          "execution_count": 18
        }
      ]
    },
    {
      "cell_type": "code",
      "source": [
        "df['Penjualan Bersih'].sum()"
      ],
      "metadata": {
        "colab": {
          "base_uri": "https://localhost:8080/"
        },
        "id": "AbaYD2O6xvtz",
        "outputId": "c2773087-c27d-47a7-b5fe-f11ccab2b2e0"
      },
      "execution_count": 19,
      "outputs": [
        {
          "output_type": "execute_result",
          "data": {
            "text/plain": [
              "1040650000"
            ]
          },
          "metadata": {},
          "execution_count": 19
        }
      ]
    },
    {
      "cell_type": "code",
      "source": [
        "sns.jointplot(x=\"Tanggal\", y=\"Total Penjualan\", data=df, size=5)\n",
        "plt.show()"
      ],
      "metadata": {
        "colab": {
          "base_uri": "https://localhost:8080/",
          "height": 441
        },
        "id": "8bALx0sfxxwy",
        "outputId": "75a4cefd-8eb2-4434-f05c-b62e7baed2ba"
      },
      "execution_count": 20,
      "outputs": [
        {
          "output_type": "display_data",
          "data": {
            "text/plain": [
              "<Figure size 432x432 with 3 Axes>"
            ],
            "image/png": "[encoded data removed]"
          },
          "metadata": {
            "needs_background": "light"
          }
        }
      ]
    },
    {
      "cell_type": "code",
      "source": [
        "sns.jointplot(x=\"Kode Produk\", y=\"Penjualan Bersih\", data=df, size=5)\n",
        "plt.show()"
      ],
      "metadata": {
        "colab": {
          "base_uri": "https://localhost:8080/",
          "height": 441
        },
        "id": "RTQEYjg1x5R3",
        "outputId": "1ab18999-fc95-403e-f1ac-ac45e9476b77"
      },
      "execution_count": 21,
      "outputs": [
        {
          "output_type": "display_data",
          "data": {
            "text/plain": [
              "<Figure size 432x432 with 3 Axes>"
            ],
            "image/png": "[encoded data removed]"
          },
          "metadata": {
            "needs_background": "light"
          }
        }
      ]
    }
  ]
}